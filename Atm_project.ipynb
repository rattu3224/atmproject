{
 "cells": [
  {
   "cell_type": "code",
   "execution_count": 17,
   "id": "9954d468",
   "metadata": {},
   "outputs": [],
   "source": [
    "class Atm:\n",
    "    def __init__(self):\n",
    "        self.pin = \"\"\n",
    "        self.balance = 0\n",
    "        self.balance_history = []\n",
    "        self.max_pin_attempts = 3\n",
    "        self.pin_attempts = 0  \n",
    "        try:\n",
    "            self.menu()\n",
    "        except:\n",
    "            print('You are at ATM')\n",
    "\n",
    "    def menu(self):\n",
    "        while True:\n",
    "            user_input = int(input(\n",
    "                \"\"\"\n",
    "                Hello, How Would You like to proceed?\n",
    "                1. Press 1 to create a pin\n",
    "                2. Press 2 to deposit \n",
    "                3. Press 3 to Withdraw\n",
    "                4. Press 4 to check Balance\n",
    "                5. Press 5 to Exit\n",
    "                \"\"\"\n",
    "            ))\n",
    "            if user_input == 1:\n",
    "                self.create_pin()\n",
    "            elif user_input == 2:\n",
    "                self.deposit()\n",
    "            elif user_input == 3:\n",
    "                self.withdrawal()\n",
    "            elif user_input == 4:\n",
    "                self.check_balance()\n",
    "            elif user_input == 5:\n",
    "                print(\"Exit\")\n",
    "                break\n",
    "            else:\n",
    "                # break\n",
    "                print(\"Invalid Input\")\n",
    "\n",
    "    def create_pin(self):\n",
    "        if self.pin_attempts < self.max_pin_attempts:\n",
    "            self.pin = input(\"Set Your 4 digit Pin: \")\n",
    "            if len(self.pin) < 4:\n",
    "                print(\"Enter at least 4 Digits\")\n",
    "                self.pin_attempts += 1\n",
    "                self.create_pin()\n",
    "            else:\n",
    "                print(\"Pin Set Successfully\")\n",
    "                self.pin_attempts = 0  \n",
    "        else:\n",
    "            print(\"Maximum PIN attempts reached. Returning to the main menu.\")\n",
    "            self.pin_attempts = 0  \n",
    "\n",
    "    def deposit(self):\n",
    "        deposit_amount = int(input(\"Enter Your Deposit Amount: \"))\n",
    "        if deposit_amount <= 0:\n",
    "            print(\"Enter a Valid Amount\")\n",
    "        else:\n",
    "            self.balance += deposit_amount\n",
    "            self.balance_history.append(self.balance)\n",
    "            print(\"Amount Deposited Successfully. Your Updated Balance is:\", self.balance)\n",
    "\n",
    "    def withdrawal(self):\n",
    "        withdrawal_amount = int(input(\"Enter Your Withdrawal Amount: \"))\n",
    "        if withdrawal_amount <= 0:\n",
    "            print(\"Enter a Valid Amount\")\n",
    "        elif withdrawal_amount > self.balance:\n",
    "            print(\"Insufficient Balance. Withdrawal not processed.\")\n",
    "        else:\n",
    "            self.balance -= withdrawal_amount\n",
    "            self.balance_history.append(self.balance)\n",
    "            print(\"Withdrawal Successful. Your Updated Balance is:\", self.balance)\n",
    "\n",
    "    def check_balance(self):\n",
    "        print(\"Your Current Balance is:\", self.balance)"
   ]
  },
  {
   "cell_type": "code",
   "execution_count": 18,
   "id": "b4ba5afe",
   "metadata": {},
   "outputs": [
    {
     "name": "stdout",
     "output_type": "stream",
     "text": [
      "Invalid Input\n",
      "Amount Deposited Successfully. Your Updated Balance is: 5000\n",
      "You are here\n"
     ]
    }
   ],
   "source": [
    "atm = Atm()"
   ]
  },
  {
   "cell_type": "code",
   "execution_count": null,
   "id": "82b46e80",
   "metadata": {},
   "outputs": [],
   "source": []
  }
 ],
 "metadata": {
  "kernelspec": {
   "display_name": "Python 3 (ipykernel)",
   "language": "python",
   "name": "python3"
  },
  "language_info": {
   "codemirror_mode": {
    "name": "ipython",
    "version": 3
   },
   "file_extension": ".py",
   "mimetype": "text/x-python",
   "name": "python",
   "nbconvert_exporter": "python",
   "pygments_lexer": "ipython3",
   "version": "3.12.0"
  }
 },
 "nbformat": 4,
 "nbformat_minor": 5
}
